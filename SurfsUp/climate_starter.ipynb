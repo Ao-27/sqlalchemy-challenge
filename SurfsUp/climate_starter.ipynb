{
 "cells": [
  {
   "cell_type": "code",
   "execution_count": 36,
   "metadata": {},
   "outputs": [],
   "source": [
    "%matplotlib inline\n",
    "from matplotlib import style\n",
    "style.use('fivethirtyeight')\n",
    "import matplotlib.pyplot as plt"
   ]
  },
  {
   "cell_type": "code",
   "execution_count": 37,
   "metadata": {},
   "outputs": [],
   "source": [
    "import numpy as np\n",
    "import pandas as pd\n",
    "import datetime as dt\n",
    "\n",
    "#Also adding pathlib\n",
    "\n",
    "from pathlib import Path\n",
    "\n",
    "#Create a reference path to the file.\n",
    "database_path = Path(\"../Resources/hawaii.sqlite\")"
   ]
  },
  {
   "cell_type": "markdown",
   "metadata": {},
   "source": [
    "# Reflect Tables into SQLAlchemy ORM"
   ]
  },
  {
   "cell_type": "code",
   "execution_count": 38,
   "metadata": {},
   "outputs": [],
   "source": [
    "# Python SQL toolkit and Object Relational Mapper\n",
    "import sqlalchemy\n",
    "from sqlalchemy.ext.automap import automap_base\n",
    "from sqlalchemy.orm import Session\n",
    "from sqlalchemy import create_engine, func"
   ]
  },
  {
   "cell_type": "code",
   "execution_count": 39,
   "metadata": {},
   "outputs": [
    {
     "name": "stdout",
     "output_type": "stream",
     "text": [
      "Engine(sqlite:///..\\Resources\\hawaii.sqlite)\n"
     ]
    }
   ],
   "source": [
    "# create engine to hawaii.sqlite\n",
    "engine = create_engine(f\"sqlite:///{database_path}\")\n",
    "print(engine)"
   ]
  },
  {
   "cell_type": "code",
   "execution_count": 40,
   "metadata": {},
   "outputs": [],
   "source": [
    "# reflect an existing database into a new model\n",
    "\n",
    "Base = automap_base()\n",
    "\n",
    "# reflect the tables\n",
    "Base.prepare(engine)\n"
   ]
  },
  {
   "cell_type": "code",
   "execution_count": 41,
   "metadata": {},
   "outputs": [
    {
     "name": "stdout",
     "output_type": "stream",
     "text": [
      "['measurement', 'station']\n",
      "measurement\n",
      "station\n"
     ]
    }
   ],
   "source": [
    "# View all of the classes that automap found\n",
    "automap_found = Base.classes.keys()\n",
    "print(automap_found)\n",
    "\n",
    "#Choosing to store as VAR since a list was produced.\n",
    "print(automap_found[0])\n",
    "print(automap_found[1])"
   ]
  },
  {
   "cell_type": "code",
   "execution_count": 42,
   "metadata": {},
   "outputs": [],
   "source": [
    "# Save references to each table\n",
    "Measurement = Base.classes.measurement     #Base.classes.automap_found[0].astype(\"string\")\n",
    "Station = Base.classes.station    #Base.classes.automap_found[1].astype(\"string\")\n",
    "\n",
    "#print(Station)"
   ]
  },
  {
   "cell_type": "code",
   "execution_count": 43,
   "metadata": {},
   "outputs": [],
   "source": [
    "# Create our session (link) from Python to the DB\n",
    "session = Session(engine)"
   ]
  },
  {
   "cell_type": "markdown",
   "metadata": {},
   "source": [
    "# Exploratory Precipitation Analysis"
   ]
  },
  {
   "cell_type": "code",
   "execution_count": 44,
   "metadata": {},
   "outputs": [
    {
     "name": "stdout",
     "output_type": "stream",
     "text": [
      "('2017-08-23',)\n"
     ]
    }
   ],
   "source": [
    "# Find the most recent date in the data set.\n",
    "most_recent_date = session.query(Measurement.date).order_by(Measurement.date.desc()).first()\n",
    "\n",
    "print(most_recent_date)"
   ]
  },
  {
   "cell_type": "code",
   "execution_count": 45,
   "metadata": {},
   "outputs": [
    {
     "name": "stdout",
     "output_type": "stream",
     "text": [
      "2017-08-23\n",
      "<class 'str'>\n",
      "['2017', '08', '23']\n",
      "2017-08-23\n",
      "<class 'datetime.date'>\n",
      "2016-08-23\n"
     ]
    },
    {
     "data": {
      "text/html": [
       "<div>\n",
       "<style scoped>\n",
       "    .dataframe tbody tr th:only-of-type {\n",
       "        vertical-align: middle;\n",
       "    }\n",
       "\n",
       "    .dataframe tbody tr th {\n",
       "        vertical-align: top;\n",
       "    }\n",
       "\n",
       "    .dataframe thead th {\n",
       "        text-align: right;\n",
       "    }\n",
       "</style>\n",
       "<table border=\"1\" class=\"dataframe\">\n",
       "  <thead>\n",
       "    <tr style=\"text-align: right;\">\n",
       "      <th></th>\n",
       "      <th>Precipitation</th>\n",
       "    </tr>\n",
       "    <tr>\n",
       "      <th>Date</th>\n",
       "      <th></th>\n",
       "    </tr>\n",
       "  </thead>\n",
       "  <tbody>\n",
       "    <tr>\n",
       "      <th>2016-08-23</th>\n",
       "      <td>0.00</td>\n",
       "    </tr>\n",
       "    <tr>\n",
       "      <th>2016-08-23</th>\n",
       "      <td>0.15</td>\n",
       "    </tr>\n",
       "    <tr>\n",
       "      <th>2016-08-23</th>\n",
       "      <td>0.05</td>\n",
       "    </tr>\n",
       "    <tr>\n",
       "      <th>2016-08-23</th>\n",
       "      <td>NaN</td>\n",
       "    </tr>\n",
       "    <tr>\n",
       "      <th>2016-08-23</th>\n",
       "      <td>0.02</td>\n",
       "    </tr>\n",
       "  </tbody>\n",
       "</table>\n",
       "</div>"
      ],
      "text/plain": [
       "            Precipitation\n",
       "Date                     \n",
       "2016-08-23           0.00\n",
       "2016-08-23           0.15\n",
       "2016-08-23           0.05\n",
       "2016-08-23            NaN\n",
       "2016-08-23           0.02"
      ]
     },
     "execution_count": 45,
     "metadata": {},
     "output_type": "execute_result"
    }
   ],
   "source": [
    "# Design a query to retrieve the last 12 months of precipitation data and plot the results. \n",
    "\n",
    "# Starting from the most recent data point in the database. \n",
    "most_recent_asTXT = most_recent_date[0]    #.astype(\"date\") ... astype(\"string\") also didn't work ... meh ... \n",
    "print(most_recent_asTXT) \n",
    "print(type(most_recent_asTXT))  #Confirmed as text ...\n",
    "\n",
    "Date_TXT_Split = most_recent_asTXT.split(\"-\")    #Orig_Year_series.str.split('-')   #NOTE ... since it's already \"str\" ... and not in a col ... it doesn't need the \".str\" ... bridge to the \"split\" ... function ... \n",
    "print(Date_TXT_Split)\n",
    "\n",
    "most_recent_asDT = dt.date(year=int(Date_TXT_Split[0]),month=int(Date_TXT_Split[1]),day=int(Date_TXT_Split[2]))\n",
    "print(most_recent_asDT)\n",
    "print(type(most_recent_asDT))\n",
    "\n",
    "# Calculate the date one year from the last date in data set.\n",
    "one_yr_prior_inclusive = most_recent_asDT - dt.timedelta(days=365)\n",
    "print(one_yr_prior_inclusive)\n",
    "\n",
    "# Perform a query to retrieve the data and precipitation scores\n",
    "#Reviewed data set ... columns needed are titled \"date\" and \"prcp\" ... There's also \"station\" and \"tobs\" ... \n",
    "\n",
    "precipitation_score_data = session.query(Measurement.date, Measurement.prcp).filter(Measurement.date >= one_yr_prior_inclusive).order_by(Measurement.date).all()\n",
    "\n",
    "# Save the query results as a Pandas DataFrame. Explicitly set the column names\n",
    "prcp_col_names = {\n",
    "     \"date\" : \"Date\",\n",
    "     \"prcp\" : \"Precipitation\"\n",
    "}\n",
    "precipitation_data_df = pd.DataFrame(data=precipitation_score_data).rename(columns=prcp_col_names)   # , columns=prcp_col_names) #Cannot be within the DF function to rename via a Dict ... \n",
    "precipitation_data_df.head()\n",
    "\n",
    "# Sort the dataframe by date\n",
    "precipitation_data_df.set_index(\"Date\", inplace=True)\n",
    "precipitation_data_df.head()"
   ]
  },
  {
   "cell_type": "code",
   "execution_count": 46,
   "metadata": {},
   "outputs": [
    {
     "name": "stdout",
     "output_type": "stream",
     "text": [
      "<class 'pandas.core.frame.DataFrame'>\n",
      "Index: 2230 entries, 2016-08-23 to 2017-08-23\n",
      "Data columns (total 1 columns):\n",
      " #   Column         Non-Null Count  Dtype  \n",
      "---  ------         --------------  -----  \n",
      " 0   Precipitation  2021 non-null   float64\n",
      "dtypes: float64(1)\n",
      "memory usage: 34.8+ KB\n"
     ]
    }
   ],
   "source": [
    "#Validate the datatypes within the DF for matplotlibs processing needs.\n",
    "\n",
    "precipitation_data_df.info()"
   ]
  },
  {
   "cell_type": "code",
   "execution_count": 47,
   "metadata": {},
   "outputs": [
    {
     "data": {
      "image/png": "[encoded data removed]",
      "text/plain": [
       "<Figure size 640x480 with 1 Axes>"
      ]
     },
     "metadata": {},
     "output_type": "display_data"
    }
   ],
   "source": [
    "# Use Pandas Plotting with Matplotlib to plot the data\n",
    "prcp_plot = precipitation_data_df.plot(title=\"Hawaii - Precipitation over last 12 months\", rot=90)\n",
    "prcp_plot.set_xlabel(\"Date\")\n",
    "prcp_plot.set_ylabel(\"Inches\")\n",
    "plt.show()"
   ]
  },
  {
   "cell_type": "code",
   "execution_count": 48,
   "metadata": {},
   "outputs": [
    {
     "name": "stdout",
     "output_type": "stream",
     "text": [
      "count    2021.000000\n",
      "mean        0.177279\n",
      "std         0.461190\n",
      "min         0.000000\n",
      "25%         0.000000\n",
      "50%         0.020000\n",
      "75%         0.130000\n",
      "max         6.700000\n",
      "Name: Precipitation, dtype: float64\n"
     ]
    }
   ],
   "source": [
    "# Use Pandas to calculate the summary statistics for the precipitation data\n",
    "summary_statistics = precipitation_data_df['Precipitation'].describe()\n",
    "\n",
    "print(summary_statistics)"
   ]
  },
  {
   "cell_type": "markdown",
   "metadata": {},
   "source": [
    "# Exploratory Station Analysis"
   ]
  },
  {
   "cell_type": "code",
   "execution_count": 49,
   "metadata": {},
   "outputs": [
    {
     "name": "stdout",
     "output_type": "stream",
     "text": [
      "The Total Number of Stations in the Stations DataSet is:\n",
      "(9,)\n"
     ]
    }
   ],
   "source": [
    "# Design a query to calculate the total number of stations in the dataset\n",
    "stations_total_count = session.query(func.count(Station.station)).all()\n",
    "print(f\"The Total Number of Stations in the Stations DataSet is:\\n{stations_total_count[0]}\")"
   ]
  },
  {
   "cell_type": "code",
   "execution_count": 50,
   "metadata": {},
   "outputs": [
    {
     "name": "stdout",
     "output_type": "stream",
     "text": [
      "Measured Station: USC00519281, Dataset Observation Count: 2772\n",
      "Measured Station: USC00519397, Dataset Observation Count: 2724\n",
      "Measured Station: USC00513117, Dataset Observation Count: 2709\n",
      "Measured Station: USC00519523, Dataset Observation Count: 2669\n",
      "Measured Station: USC00516128, Dataset Observation Count: 2612\n",
      "Measured Station: USC00514830, Dataset Observation Count: 2202\n",
      "Measured Station: USC00511918, Dataset Observation Count: 1979\n",
      "Measured Station: USC00517948, Dataset Observation Count: 1372\n",
      "Measured Station: USC00518838, Dataset Observation Count: 511\n"
     ]
    }
   ],
   "source": [
    "# Design a query to find the most active stations (i.e. which stations have the most rows?)\n",
    "# List the stations and their counts in descending order.\n",
    "\n",
    "most_active_stations_measured = session.query(Measurement.station, func.count(Measurement.station)).\\\n",
    "                       group_by(Measurement.station).\\\n",
    "                       order_by(func.count(Measurement.station).desc()).all()\n",
    "\n",
    "for station_id, counted in most_active_stations_measured:\n",
    "    print(f\"Measured Station: {station_id}, Dataset Observation Count: {counted}\")"
   ]
  },
  {
   "cell_type": "code",
   "execution_count": 51,
   "metadata": {},
   "outputs": [
    {
     "name": "stdout",
     "output_type": "stream",
     "text": [
      "[(54.0, 85.0, 71.66378066378067)]\n",
      "\n",
      "+++++++\n",
      "The most measured station from the dataset has the ID of:\n",
      "USC00519281\n",
      "Lowest Temperature: 54.0\n",
      "Highest Temperature: 85.0\n",
      "Average Temperature: 71.66\n"
     ]
    }
   ],
   "source": [
    "# Using the most active station id from the previous query, calculate the lowest, highest, and average temperature.\n",
    "isolated_most_measured_station = most_active_stations_measured[0][0]\n",
    "\n",
    "temperature_stats_fetch = session.query(func.min(Measurement.tobs), func.max(Measurement.tobs), func.avg(Measurement.tobs)).\\\n",
    "                    filter(Measurement.station == isolated_most_measured_station).all()\n",
    "\n",
    "print(temperature_stats_fetch)\n",
    "print(f\"\\n+++++++\")\n",
    "\n",
    "isol_lowest_temp, isol_highest_temp, isol_avg_temp = temperature_stats_fetch[0]\n",
    "\n",
    "print(f\"The most measured station from the dataset has the ID of:\\n{isolated_most_measured_station}\")\n",
    "print(f\"Lowest Temperature: {isol_lowest_temp}\")\n",
    "print(f\"Highest Temperature: {isol_highest_temp}\")\n",
    "print(f\"Average Temperature: {isol_avg_temp:.2f}\")"
   ]
  },
  {
   "cell_type": "code",
   "execution_count": 52,
   "metadata": {},
   "outputs": [
    {
     "data": {
      "image/png": "[encoded data removed]",
      "text/plain": [
       "<Figure size 640x480 with 1 Axes>"
      ]
     },
     "metadata": {},
     "output_type": "display_data"
    }
   ],
   "source": [
    "# Using the most active station id\n",
    "# Query the last 12 months of temperature observation data for this station and plot the results as a histogram\n",
    "most_station_data = session.query(Measurement.station, Measurement.tobs).\\\n",
    "    filter(Measurement.date >= one_yr_prior_inclusive).\\\n",
    "    filter(Measurement.station == isolated_most_measured_station).all()\n",
    "    \n",
    "most_station_data\n",
    "\n",
    "most_station_df = pd.DataFrame(most_station_data, columns = [\"Station\", \"Temperature\"])\n",
    "most_station_df\n",
    "\n",
    "# Plotting DataFrame\n",
    "most_station_plot = most_station_df[\"Temperature\"].plot.hist(bins = 12, title=\"Temperature of most active station over last 12 months\", rot=90)\n",
    "plt.xlabel(\"Temperature\")\n",
    "plt.ylabel(\"Frequency\")\n",
    "plt.show()"
   ]
  },
  {
   "cell_type": "markdown",
   "metadata": {},
   "source": [
    "# Close Session"
   ]
  },
  {
   "cell_type": "code",
   "execution_count": 53,
   "metadata": {},
   "outputs": [],
   "source": [
    "# Close Session\n",
    "session.close()"
   ]
  },
  {
   "cell_type": "code",
   "execution_count": null,
   "metadata": {},
   "outputs": [],
   "source": []
  }
 ],
 "metadata": {
  "anaconda-cloud": {},
  "kernel_info": {
   "name": "python3"
  },
  "kernelspec": {
   "display_name": "Python 3 (ipykernel)",
   "language": "python",
   "name": "python3"
  },
  "language_info": {
   "codemirror_mode": {
    "name": "ipython",
    "version": 3
   },
   "file_extension": ".py",
   "mimetype": "text/x-python",
   "name": "python",
   "nbconvert_exporter": "python",
   "pygments_lexer": "ipython3",
   "version": "3.11.3"
  },
  "nteract": {
   "version": "0.12.3"
  },
  "varInspector": {
   "cols": {
    "lenName": 16,
    "lenType": 16,
    "lenVar": 40
   },
   "kernels_config": {
    "python": {
     "delete_cmd_postfix": "",
     "delete_cmd_prefix": "del ",
     "library": "var_list.py",
     "varRefreshCmd": "print(var_dic_list())"
    },
    "r": {
     "delete_cmd_postfix": ") ",
     "delete_cmd_prefix": "rm(",
     "library": "var_list.r",
     "varRefreshCmd": "cat(var_dic_list()) "
    }
   },
   "types_to_exclude": [
    "module",
    "function",
    "builtin_function_or_method",
    "instance",
    "_Feature"
   ],
   "window_display": false
  }
 },
 "nbformat": 4,
 "nbformat_minor": 2
}
